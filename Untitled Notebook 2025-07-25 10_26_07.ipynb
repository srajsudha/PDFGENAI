{
 "cells": [
  {
   "cell_type": "code",
   "execution_count": 0,
   "metadata": {
    "application/vnd.databricks.v1+cell": {
     "cellMetadata": {
      "byteLimit": 2048000,
      "rowLimit": 10000
     },
     "inputWidgets": {},
     "nuid": "72549f24-560f-45b4-b02c-ede98212382b",
     "showTitle": false,
     "tableResultSettingsMap": {},
     "title": ""
    }
   },
   "outputs": [],
   "source": [
    "%pip install langchain pypdf2 streamlit\n",
    "\n",
    "# Cell 2: Import libraries and restart Python\n",
    "dbutils.library.restartPython()"
   ]
  },
  {
   "cell_type": "code",
   "execution_count": 0,
   "metadata": {
    "application/vnd.databricks.v1+cell": {
     "cellMetadata": {
      "byteLimit": 2048000,
      "rowLimit": 10000
     },
     "inputWidgets": {},
     "nuid": "61745f50-7dfc-4aa3-b107-840d9eb9e6c6",
     "showTitle": false,
     "tableResultSettingsMap": {},
     "title": ""
    }
   },
   "outputs": [],
   "source": [
    "dbutils.library.restartPython()"
   ]
  },
  {
   "cell_type": "code",
   "execution_count": 0,
   "metadata": {
    "application/vnd.databricks.v1+cell": {
     "cellMetadata": {
      "byteLimit": 2048000,
      "rowLimit": 10000
     },
     "inputWidgets": {},
     "nuid": "3227ca99-5bed-489e-960a-75bdbec07196",
     "showTitle": false,
     "tableResultSettingsMap": {},
     "title": ""
    }
   },
   "outputs": [],
   "source": [
    "try:\n",
    "    # Test if Databricks already has S3 access configured\n",
    "    files = dbutils.fs.ls(\"s3://testbucketsudhanshudatabricks/\")\n",
    "    print(\"✅ Databricks already has S3 access!\")\n",
    "    print(\"Available files/folders:\")\n",
    "    for file in files:\n",
    "        print(f\"  - {file.name}\")\n",
    "    \n",
    "    # If this works, we can use dbutils approach (Method A)\n",
    "    S3_ACCESS_METHOD = \"dbutils\"\n",
    "    \n",
    "except Exception as e:\n",
    "    print(f\"❌ No direct S3 access: {e}\")\n",
    "    print(\"Need to configure credentials...\")\n",
    "    S3_ACCESS_METHOD = \"credentials\""
   ]
  },
  {
   "cell_type": "code",
   "execution_count": 0,
   "metadata": {
    "application/vnd.databricks.v1+cell": {
     "cellMetadata": {},
     "inputWidgets": {},
     "nuid": "5540ba74-773d-4d82-90a1-7f8f5a461a5b",
     "showTitle": false,
     "tableResultSettingsMap": {},
     "title": ""
    }
   },
   "outputs": [],
   "source": []
  },
  {
   "cell_type": "code",
   "execution_count": 0,
   "metadata": {
    "application/vnd.databricks.v1+cell": {
     "cellMetadata": {
      "byteLimit": 2048000,
      "rowLimit": 10000
     },
     "inputWidgets": {},
     "nuid": "41595bf8-15b8-4e1b-8ec6-bb71ebc7e7b8",
     "showTitle": false,
     "tableResultSettingsMap": {},
     "title": ""
    }
   },
   "outputs": [],
   "source": [
    "%python\n",
    "def ask_banking_question_dbutils(s3_path, question):\n",
    "    from mlflow.deployments import get_deploy_client\n",
    "    pdf_path = '/Volumes/sudhanshu/default/pdf/2025-07-02_Statement.pdf'\n",
    "    \n",
    "    # # Copy file to temp location and read\n",
    "    # temp_path = \"/tmp/temp_statement.pdf\"\n",
    "    # dbutils.fs.cp(s3_path, f\"file:{temp_path}\")\n",
    "    \n",
    "    # Extract text using PyPDF2\n",
    "    from PyPDF2 import PdfReader\n",
    "    reader = PdfReader(pdf_path)\n",
    "    text = ''.join(page.extract_text() for page in reader.pages)\n",
    "    \n",
    "    # # Clean up temp file\n",
    "    # dbutils.fs.rm(f\"file:{temp_path}\")\n",
    "    \n",
    "    # Process with LLM\n",
    "    client = get_deploy_client(\"databricks\")\n",
    "    prompt = f\"\"\"\n",
    "    Analyze this bank statement: {text[:15000]}\n",
    "    \n",
    "    Question: {question}\n",
    "    \n",
    "    Provide specific numbers and analysis.\n",
    "    \"\"\"\n",
    "    \n",
    "    response = client.predict(\n",
    "        endpoint=\"databricks-meta-llama-3-1-405b-instruct\",\n",
    "        inputs={\"messages\": [{\"role\": \"user\", \"content\": prompt}], \"max_tokens\": 500}\n",
    "    )\n",
    "    \n",
    "    return response['choices'][0]['message']['content']\n",
    "\n",
    "# Test this method\n",
    "if S3_ACCESS_METHOD == \"dbutils\":\n",
    "    answer = ask_banking_question_dbutils(\"s3://testbucketsudhanshudatabricks/pdfs/2025-07-02_Statement.pdf\", \n",
    "                                         \"What's my total spending?\")\n",
    "    print(\"✅ SUCCESS with dbutils method!\")\n",
    "    print(answer)"
   ]
  },
  {
   "cell_type": "code",
   "execution_count": 0,
   "metadata": {
    "application/vnd.databricks.v1+cell": {
     "cellMetadata": {
      "byteLimit": 2048000,
      "rowLimit": 10000
     },
     "inputWidgets": {},
     "nuid": "2d55c840-d87d-4af3-8d9b-ae5bc2a77838",
     "showTitle": false,
     "tableResultSettingsMap": {},
     "title": ""
    }
   },
   "outputs": [],
   "source": [
    "# Just like spark.read.csv(\"s3://bucket/file.csv\")\n",
    "# We should do: process_pdf(\"s3://bucket/file.pdf\")\n",
    "\n",
    "def banking_query(s3_path, question):\n",
    "    \"\"\"Direct S3 PDF processing - no downloads!\"\"\"\n",
    "    import boto3\n",
    "    from PyPDF2 import PdfReader\n",
    "    from io import BytesIO\n",
    "    \n",
    "    # Parse S3 path\n",
    "    bucket = s3_path.split('/')[2]\n",
    "    key = '/'.join(s3_path.split('/')[3:])\n",
    "    \n",
    "    # Read directly into memory\n",
    "    s3 = boto3.client('s3')\n",
    "    obj = s3.get_object(Bucket=bucket, Key=key)\n",
    "    pdf_bytes = obj['Body'].read()\n",
    "    \n",
    "    # Extract text directly\n",
    "    reader = PdfReader(BytesIO(pdf_bytes))\n",
    "    text = ''.join(page.extract_text() for page in reader.pages)\n",
    "    \n",
    "    # Send to LLM\n",
    "    return llm_analyze(text, question)\n",
    "\n",
    "# One-liner usage (just like Spark!)\n",
    "answer = banking_query(\"s3://testbucketsudhanshudatabricks/pdfs/2025-07-02_Statement.pdf\", \n",
    "                      \"How much did I spend on food?\")"
   ]
  }
 ],
 "metadata": {
  "application/vnd.databricks.v1+notebook": {
   "computePreferences": null,
   "dashboards": [],
   "environmentMetadata": {
    "base_environment": "",
    "environment_version": "2"
   },
   "inputWidgetPreferences": null,
   "language": "python",
   "notebookMetadata": {
    "pythonIndentUnit": 4
   },
   "notebookName": "Untitled Notebook 2025-07-25 10_26_07",
   "widgets": {}
  },
  "language_info": {
   "name": "python"
  }
 },
 "nbformat": 4,
 "nbformat_minor": 0
}
